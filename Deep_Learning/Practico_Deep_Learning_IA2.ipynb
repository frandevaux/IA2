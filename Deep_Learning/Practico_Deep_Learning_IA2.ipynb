{
 "nbformat": 4,
 "nbformat_minor": 0,
 "metadata": {
  "colab": {
   "provenance": [],
   "gpuType": "T4"
  },
  "kernelspec": {
   "name": "python3",
   "display_name": "Python 3 (ipykernel)",
   "language": "python"
  },
  "language_info": {
   "name": "python"
  },
  "accelerator": "GPU"
 },
 "cells": [
  {
   "cell_type": "code",
   "source": [
    "import numpy\n",
    "import tensorflow as tf\n",
    "from tensorflow import keras\n",
    "from tensorflow.keras import layers\n",
    "import matplotlib.pyplot as plt"
   ],
   "metadata": {
    "id": "DoaLnJQp961C",
    "ExecuteTime": {
     "end_time": "2024-08-29T03:28:32.470194Z",
     "start_time": "2024-08-29T03:28:32.468032Z"
    }
   },
   "outputs": [],
   "execution_count": 66
  },
  {
   "metadata": {},
   "cell_type": "markdown",
   "source": ""
  },
  {
   "cell_type": "markdown",
   "source": [
    "# Parte 1: Introducción"
   ],
   "metadata": {
    "id": "GBz5BAKoVwAv"
   }
  },
  {
   "cell_type": "markdown",
   "metadata": {
    "id": "ZIyMzJmXpDdH"
   },
   "source": [
    "### Ejercicio 1\n",
    "Generar un tensor llamado **x** cuyo contenido sea el siguiente:\n",
    "\n",
    "![Imagen](./rfaKGUG.png)"
   ]
  },
  {
   "cell_type": "code",
   "metadata": {
    "id": "A5cbS3G9nQyg",
    "ExecuteTime": {
     "end_time": "2024-08-29T03:28:32.492103Z",
     "start_time": "2024-08-29T03:28:32.490095Z"
    }
   },
   "source": [
    "x = tf.constant([\n",
    "    [\n",
    "        [0,2,4,6,8], [ 10,12,14,16,18],\n",
    "        [20,22,24,26,28]\n",
    "    ],\n",
    "    [\n",
    "        [30,32,34,46,38], [40,42,44,46,48],\n",
    "        [50,52,54,56,58]\n",
    "    ]\n",
    "])\n",
    "\n",
    "print(x)"
   ],
   "outputs": [
    {
     "name": "stdout",
     "output_type": "stream",
     "text": [
      "tf.Tensor(\n",
      "[[[ 0  2  4  6  8]\n",
      "  [10 12 14 16 18]\n",
      "  [20 22 24 26 28]]\n",
      "\n",
      " [[30 32 34 46 38]\n",
      "  [40 42 44 46 48]\n",
      "  [50 52 54 56 58]]], shape=(2, 3, 5), dtype=int32)\n"
     ]
    }
   ],
   "execution_count": 67
  },
  {
   "cell_type": "markdown",
   "metadata": {
    "id": "dm_PLDM_ov2z"
   },
   "source": [
    "### Ejercicio 2\n",
    "Realizar los cambios necesarios en los siguientes tensores para que sea posible multiplicar cada columna del tensor \"X\" por el vector \"y\"."
   ]
  },
  {
   "cell_type": "code",
   "metadata": {
    "id": "iYigasJnqJDe",
    "ExecuteTime": {
     "end_time": "2024-08-29T03:28:32.495760Z",
     "start_time": "2024-08-29T03:28:32.492867Z"
    }
   },
   "source": [
    "X = tf.ones((2, 4, 5, 3))\n",
    "y = tf.constant([1, 2, 3, 4, 5], dtype=tf.float32)\n",
    "y_2 = tf.reshape(y, (1, 1, 5, 1))\n",
    "\n",
    "result = X * y_2    \n",
    "print(result)\n"
   ],
   "outputs": [
    {
     "name": "stdout",
     "output_type": "stream",
     "text": [
      "tf.Tensor(\n",
      "[[[[1. 1. 1.]\n",
      "   [2. 2. 2.]\n",
      "   [3. 3. 3.]\n",
      "   [4. 4. 4.]\n",
      "   [5. 5. 5.]]\n",
      "\n",
      "  [[1. 1. 1.]\n",
      "   [2. 2. 2.]\n",
      "   [3. 3. 3.]\n",
      "   [4. 4. 4.]\n",
      "   [5. 5. 5.]]\n",
      "\n",
      "  [[1. 1. 1.]\n",
      "   [2. 2. 2.]\n",
      "   [3. 3. 3.]\n",
      "   [4. 4. 4.]\n",
      "   [5. 5. 5.]]\n",
      "\n",
      "  [[1. 1. 1.]\n",
      "   [2. 2. 2.]\n",
      "   [3. 3. 3.]\n",
      "   [4. 4. 4.]\n",
      "   [5. 5. 5.]]]\n",
      "\n",
      "\n",
      " [[[1. 1. 1.]\n",
      "   [2. 2. 2.]\n",
      "   [3. 3. 3.]\n",
      "   [4. 4. 4.]\n",
      "   [5. 5. 5.]]\n",
      "\n",
      "  [[1. 1. 1.]\n",
      "   [2. 2. 2.]\n",
      "   [3. 3. 3.]\n",
      "   [4. 4. 4.]\n",
      "   [5. 5. 5.]]\n",
      "\n",
      "  [[1. 1. 1.]\n",
      "   [2. 2. 2.]\n",
      "   [3. 3. 3.]\n",
      "   [4. 4. 4.]\n",
      "   [5. 5. 5.]]\n",
      "\n",
      "  [[1. 1. 1.]\n",
      "   [2. 2. 2.]\n",
      "   [3. 3. 3.]\n",
      "   [4. 4. 4.]\n",
      "   [5. 5. 5.]]]], shape=(2, 4, 5, 3), dtype=float32)\n"
     ]
    }
   ],
   "execution_count": 68
  },
  {
   "cell_type": "markdown",
   "source": [
    "### Ejercicio 3\n",
    "Sobre Tensores, implemente las operaciones Suma, Producto Tensorial y Contraccion Tensorial. Para ello agregue las operaciones tensoriales que sean pertinentes"
   ],
   "metadata": {
    "id": "wyL_f2TRGzSN"
   }
  },
  {
   "cell_type": "code",
   "source": [
    "def tensor_sum(a, b):\n",
    "    return a + b\n",
    "\n",
    "def tensor_product(a, b):\n",
    "    return tf.tensordot(a, b, 1)\n",
    "\n",
    "def tensor_contraction(a, b):\n",
    "    return tf.tensordot(a, b, 1)\n",
    "\n"
   ],
   "metadata": {
    "id": "urXdykPP3x-h",
    "ExecuteTime": {
     "end_time": "2024-08-29T03:28:32.498564Z",
     "start_time": "2024-08-29T03:28:32.496710Z"
    }
   },
   "outputs": [],
   "execution_count": 69
  },
  {
   "cell_type": "markdown",
   "source": [
    "### Ejercicio 4\n",
    "Descargar y estudiar el dataset de IMDB de Keras (num_words = 10000)\n",
    "Separar el dataset en conjuntos de train y test"
   ],
   "metadata": {
    "id": "dSkCut4H32lE"
   }
  },
  {
   "metadata": {},
   "cell_type": "markdown",
   "source": ""
  },
  {
   "cell_type": "code",
   "source": [
    "from tensorflow.keras.datasets import imdb\n",
    "\n",
    "(train_data, train_labels), (test_data, test_labels) = imdb.load_data(num_words=10000)\n",
    "\n",
    "print(f'Train data shape: {train_data.shape}')\n",
    "print(f'Train labels shape: {train_labels.shape}')\n",
    "print(f'Test data shape: {test_data.shape}')\n",
    "print(f'Test labels shape: {test_labels.shape}')\n"
   ],
   "metadata": {
    "id": "DIczLIn8Hoth",
    "ExecuteTime": {
     "end_time": "2024-08-29T03:28:33.830195Z",
     "start_time": "2024-08-29T03:28:32.499432Z"
    }
   },
   "outputs": [
    {
     "name": "stdout",
     "output_type": "stream",
     "text": [
      "Train data shape: (25000,)\n",
      "Train labels shape: (25000,)\n",
      "Test data shape: (25000,)\n",
      "Test labels shape: (25000,)\n"
     ]
    }
   ],
   "execution_count": 70
  },
  {
   "cell_type": "markdown",
   "source": [
    "# Ejercicio 5\n",
    "Dentro del conjunto de Test extraer el primer review positivo y el primer negativo. Hacer la codificacion back-to-text de cada uno de ellos"
   ],
   "metadata": {
    "id": "kX6albpW4mmk"
   }
  },
  {
   "cell_type": "code",
   "source": [
    "# Cargar el diccionario de palabras inverso (índice a palabra)\n",
    "word_index = imdb.get_word_index()\n",
    "reverse_word_index = {value: key for (key, value) in word_index.items()}\n",
    "\n",
    "# Decodificar una reseña de secuencia a texto\n",
    "def decode_review(sequence):\n",
    "    return ' '.join([reverse_word_index.get(i - 3, '?') for i in sequence])\n",
    "\n",
    "# Extraer el primer review positivo y negativo\n",
    "first_positive_index = next(i for i, label in enumerate(test_labels) if label == 1)\n",
    "first_negative_index = next(i for i, label in enumerate(test_labels) if label == 0)\n",
    "\n",
    "first_positive_review = test_data[first_positive_index]\n",
    "first_negative_review = test_data[first_negative_index]\n",
    "\n",
    "# Decodificar los reviews a texto\n",
    "positive_review_text = decode_review(first_positive_review)\n",
    "negative_review_text = decode_review(first_negative_review)\n",
    "\n",
    "print(\"First positive review (decoded):\")\n",
    "print(positive_review_text)\n",
    "\n",
    "print(\"\\nFirst negative review (decoded):\")\n",
    "print(negative_review_text)"
   ],
   "metadata": {
    "id": "Twq7OJui5Pia",
    "ExecuteTime": {
     "end_time": "2024-08-29T03:28:33.853821Z",
     "start_time": "2024-08-29T03:28:33.830813Z"
    }
   },
   "outputs": [
    {
     "name": "stdout",
     "output_type": "stream",
     "text": [
      "First positive review (decoded):\n",
      "? this film requires a lot of patience because it focuses on mood and character development the plot is very simple and many of the scenes take place on the same set in frances ? the sandy dennis character apartment but the film builds to a disturbing climax br br the characters create an atmosphere ? with sexual tension and psychological ? it's very interesting that robert altman directed this considering the style and structure of his other films still the trademark altman audio style is evident here and there i think what really makes this film work is the brilliant performance by sandy dennis it's definitely one of her darker characters but she plays it so perfectly and convincingly that it's scary michael burns does a good job as the mute young man regular altman player michael murphy has a small part the ? moody set fits the content of the story very well in short this movie is a powerful study of loneliness sexual ? and desperation be patient ? up the atmosphere and pay attention to the wonderfully written script br br i praise robert altman this is one of his many films that deals with unconventional fascinating subject matter this film is disturbing but it's sincere and it's sure to ? a strong emotional response from the viewer if you want to see an unusual film some might even say bizarre this is worth the time br br unfortunately it's very difficult to find in video stores you may have to buy it off the internet\n",
      "\n",
      "First negative review (decoded):\n",
      "? please give this one a miss br br ? ? and the rest of the cast rendered terrible performances the show is flat flat flat br br i don't know how michael madison could have allowed this one on his plate he almost seemed to know this wasn't going to work out and his performance was quite ? so all you madison fans give this a miss\n"
     ]
    }
   ],
   "execution_count": 71
  },
  {
   "cell_type": "markdown",
   "source": [
    "### Ejercicio 6\n",
    "Sin hacer uso de las librerias de Keras, crear una red neuronal feed-forward fully_connected con la siguiente arquitectura: capa de entrada - 16 -16 - capa de salida.\n",
    "(Programar todas las funciones necesarias)\n"
   ],
   "metadata": {
    "id": "YKcgzaui5SsZ"
   }
  },
  {
   "cell_type": "code",
   "source": [
    "# Code here"
   ],
   "metadata": {
    "id": "e8K_z43P7Ckt",
    "ExecuteTime": {
     "end_time": "2024-08-29T03:28:33.856306Z",
     "start_time": "2024-08-29T03:28:33.854901Z"
    }
   },
   "outputs": [],
   "execution_count": 72
  },
  {
   "cell_type": "markdown",
   "source": [
    "### Ejercicio 7\n",
    "Tomar un lote random de 100 reviews en el conjunto de train y hacer forward por su red neuronal estimando el error para ese lote. Definir la funcion de error pertinente."
   ],
   "metadata": {
    "id": "RP4QnotU7EFK"
   }
  },
  {
   "cell_type": "code",
   "source": [
    "# Code here"
   ],
   "metadata": {
    "id": "xMgbNdbk7uuj",
    "ExecuteTime": {
     "end_time": "2024-08-29T03:28:33.857966Z",
     "start_time": "2024-08-29T03:28:33.856793Z"
    }
   },
   "outputs": [],
   "execution_count": 73
  },
  {
   "cell_type": "markdown",
   "source": [
    "### Ejercicio 8\n",
    "Usando Keras defina la misma red neuronal anterior"
   ],
   "metadata": {
    "id": "0pgNzr_z73cl"
   }
  },
  {
   "cell_type": "code",
   "source": [
    "# Definir el modelo secuencial\n",
    "model = models.Sequential()\n",
    "\n",
    "# Capa de entrada\n",
    "# La capa de entrada se puede definir implícitamente en la primera capa oculta\n",
    "# Si las entradas son secuencias de longitud variable, se define input_shape=(None,)\n",
    "model.add(layers.Dense(16, activation='relu', input_shape=(10000,)))\n",
    "\n",
    "# Primera capa oculta con 16 neuronas y activación ReLU\n",
    "model.add(layers.Dense(16, activation='relu'))\n",
    "\n",
    "# Segunda capa oculta con 16 neuronas y activación ReLU\n",
    "model.add(layers.Dense(16, activation='relu'))\n",
    "\n",
    "# Capa de salida con una neurona (usada para clasificación binaria)\n",
    "model.add(layers.Dense(1, activation='sigmoid'))\n"
   ],
   "metadata": {
    "id": "i4640XN678D0",
    "ExecuteTime": {
     "end_time": "2024-08-29T03:28:33.859641Z",
     "start_time": "2024-08-29T03:28:33.858458Z"
    }
   },
   "outputs": [],
   "execution_count": 74
  },
  {
   "cell_type": "markdown",
   "source": [
    "### Ejercicio 9\n",
    "Entrene el modelo definido usando un batchs de 512 elementos y 20 epoch. Recuerden generar los conjuntos de validacion y train."
   ],
   "metadata": {
    "id": "ww1WleSn8AJQ"
   }
  },
  {
   "cell_type": "code",
   "source": [
    "# Code here"
   ],
   "metadata": {
    "id": "Gj1DUK377-Qg",
    "ExecuteTime": {
     "end_time": "2024-08-29T03:28:33.861345Z",
     "start_time": "2024-08-29T03:28:33.860154Z"
    }
   },
   "outputs": [],
   "execution_count": 75
  },
  {
   "cell_type": "markdown",
   "source": [
    "### Ejercicio 10\n",
    "Plotear las curvas de **Training vs Validation Loss** con la loss por cada epochs\n",
    "Plotear las curvas de **Training vs Validation Accuracy** con el accuracy por cada epochs\n",
    "\n",
    "Haga un resumen con las conclusiones observadas en ambas graficas"
   ],
   "metadata": {
    "id": "wxZEiARD9dao"
   }
  },
  {
   "cell_type": "code",
   "source": [
    "# Code here"
   ],
   "metadata": {
    "id": "9miq1vlI-K0o",
    "ExecuteTime": {
     "end_time": "2024-08-29T03:28:33.864185Z",
     "start_time": "2024-08-29T03:28:33.862317Z"
    }
   },
   "outputs": [],
   "execution_count": 76
  }
 ]
}
