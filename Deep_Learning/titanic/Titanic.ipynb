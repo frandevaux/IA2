{
 "cells": [
  {
   "metadata": {},
   "cell_type": "markdown",
   "source": "",
   "id": "8c75a16ed349d3d2"
  },
  {
   "cell_type": "code",
   "id": "initial_id",
   "metadata": {
    "collapsed": true,
    "ExecuteTime": {
     "end_time": "2024-09-05T19:20:28.195159Z",
     "start_time": "2024-09-05T19:20:28.192714Z"
    }
   },
   "source": [
    "import pandas as pd\n",
    "import numpy as np\n",
    "from sklearn.model_selection import train_test_split\n",
    "from sklearn.preprocessing import StandardScaler\n",
    "from keras.models import Sequential\n",
    "from keras.layers import Dense\n",
    "from keras.utils import to_categorical\n",
    "import seaborn as sns\n",
    "import matplotlib.pyplot as plt\n"
   ],
   "outputs": [],
   "execution_count": 17
  },
  {
   "metadata": {},
   "cell_type": "markdown",
   "source": [
    "# Data engineering\n",
    "\n",
    "Se importa el dataset y eliminan las filas con valores nulos.\n",
    "\n",
    "Las columnas del dataset son las siguientes:\n",
    "- PassengerId: Identificador del pasajero\n",
    "- Survived: Indica si el pasajero sobrevivió o no\n",
    "- Pclass: Clase del pasajero (1, 2, 3)\n",
    "- Name: Nombre del pasajero\n",
    "- Sex: Sexo del pasajero\n",
    "- Age: Edad del pasajero\n",
    "- SibSp: Número de hermanos o cónyuges a bordo\n",
    "- Parch: Número de padres o hijos a bordo\n",
    "- Ticket: Número de ticket\n",
    "- Fare: Tarifa del pasajero\n",
    "- Cabin: Cabina del pasajero\n",
    "- Embarked: Puerto de embarque (C = Cherbourg, Q = Queenstown, S = Southampton)"
   ],
   "id": "3f356205b7850b51"
  },
  {
   "metadata": {
    "ExecuteTime": {
     "end_time": "2024-09-05T19:20:28.214472Z",
     "start_time": "2024-09-05T19:20:28.207702Z"
    }
   },
   "cell_type": "code",
   "source": [
    "data = pd.read_csv('train.csv')\n",
    "data = data.dropna()\n",
    "data.head()"
   ],
   "id": "ddf989c7db54f3c5",
   "outputs": [
    {
     "data": {
      "text/plain": [
       "    PassengerId  Survived  Pclass  \\\n",
       "1             2         1       1   \n",
       "3             4         1       1   \n",
       "6             7         0       1   \n",
       "10           11         1       3   \n",
       "11           12         1       1   \n",
       "\n",
       "                                                 Name     Sex   Age  SibSp  \\\n",
       "1   Cumings, Mrs. John Bradley (Florence Briggs Th...  female  38.0      1   \n",
       "3        Futrelle, Mrs. Jacques Heath (Lily May Peel)  female  35.0      1   \n",
       "6                             McCarthy, Mr. Timothy J    male  54.0      0   \n",
       "10                    Sandstrom, Miss. Marguerite Rut  female   4.0      1   \n",
       "11                           Bonnell, Miss. Elizabeth  female  58.0      0   \n",
       "\n",
       "    Parch    Ticket     Fare Cabin Embarked  \n",
       "1       0  PC 17599  71.2833   C85        C  \n",
       "3       0    113803  53.1000  C123        S  \n",
       "6       0     17463  51.8625   E46        S  \n",
       "10      1   PP 9549  16.7000    G6        S  \n",
       "11      0    113783  26.5500  C103        S  "
      ],
      "text/html": [
       "<div>\n",
       "<style scoped>\n",
       "    .dataframe tbody tr th:only-of-type {\n",
       "        vertical-align: middle;\n",
       "    }\n",
       "\n",
       "    .dataframe tbody tr th {\n",
       "        vertical-align: top;\n",
       "    }\n",
       "\n",
       "    .dataframe thead th {\n",
       "        text-align: right;\n",
       "    }\n",
       "</style>\n",
       "<table border=\"1\" class=\"dataframe\">\n",
       "  <thead>\n",
       "    <tr style=\"text-align: right;\">\n",
       "      <th></th>\n",
       "      <th>PassengerId</th>\n",
       "      <th>Survived</th>\n",
       "      <th>Pclass</th>\n",
       "      <th>Name</th>\n",
       "      <th>Sex</th>\n",
       "      <th>Age</th>\n",
       "      <th>SibSp</th>\n",
       "      <th>Parch</th>\n",
       "      <th>Ticket</th>\n",
       "      <th>Fare</th>\n",
       "      <th>Cabin</th>\n",
       "      <th>Embarked</th>\n",
       "    </tr>\n",
       "  </thead>\n",
       "  <tbody>\n",
       "    <tr>\n",
       "      <th>1</th>\n",
       "      <td>2</td>\n",
       "      <td>1</td>\n",
       "      <td>1</td>\n",
       "      <td>Cumings, Mrs. John Bradley (Florence Briggs Th...</td>\n",
       "      <td>female</td>\n",
       "      <td>38.0</td>\n",
       "      <td>1</td>\n",
       "      <td>0</td>\n",
       "      <td>PC 17599</td>\n",
       "      <td>71.2833</td>\n",
       "      <td>C85</td>\n",
       "      <td>C</td>\n",
       "    </tr>\n",
       "    <tr>\n",
       "      <th>3</th>\n",
       "      <td>4</td>\n",
       "      <td>1</td>\n",
       "      <td>1</td>\n",
       "      <td>Futrelle, Mrs. Jacques Heath (Lily May Peel)</td>\n",
       "      <td>female</td>\n",
       "      <td>35.0</td>\n",
       "      <td>1</td>\n",
       "      <td>0</td>\n",
       "      <td>113803</td>\n",
       "      <td>53.1000</td>\n",
       "      <td>C123</td>\n",
       "      <td>S</td>\n",
       "    </tr>\n",
       "    <tr>\n",
       "      <th>6</th>\n",
       "      <td>7</td>\n",
       "      <td>0</td>\n",
       "      <td>1</td>\n",
       "      <td>McCarthy, Mr. Timothy J</td>\n",
       "      <td>male</td>\n",
       "      <td>54.0</td>\n",
       "      <td>0</td>\n",
       "      <td>0</td>\n",
       "      <td>17463</td>\n",
       "      <td>51.8625</td>\n",
       "      <td>E46</td>\n",
       "      <td>S</td>\n",
       "    </tr>\n",
       "    <tr>\n",
       "      <th>10</th>\n",
       "      <td>11</td>\n",
       "      <td>1</td>\n",
       "      <td>3</td>\n",
       "      <td>Sandstrom, Miss. Marguerite Rut</td>\n",
       "      <td>female</td>\n",
       "      <td>4.0</td>\n",
       "      <td>1</td>\n",
       "      <td>1</td>\n",
       "      <td>PP 9549</td>\n",
       "      <td>16.7000</td>\n",
       "      <td>G6</td>\n",
       "      <td>S</td>\n",
       "    </tr>\n",
       "    <tr>\n",
       "      <th>11</th>\n",
       "      <td>12</td>\n",
       "      <td>1</td>\n",
       "      <td>1</td>\n",
       "      <td>Bonnell, Miss. Elizabeth</td>\n",
       "      <td>female</td>\n",
       "      <td>58.0</td>\n",
       "      <td>0</td>\n",
       "      <td>0</td>\n",
       "      <td>113783</td>\n",
       "      <td>26.5500</td>\n",
       "      <td>C103</td>\n",
       "      <td>S</td>\n",
       "    </tr>\n",
       "  </tbody>\n",
       "</table>\n",
       "</div>"
      ]
     },
     "execution_count": 18,
     "metadata": {},
     "output_type": "execute_result"
    }
   ],
   "execution_count": 18
  },
  {
   "metadata": {},
   "cell_type": "markdown",
   "source": [
    "Se convierten algunas columnas a valores numéricos.\n",
    "\n",
    "//TODO: Convertir la columna Age a valores enteros"
   ],
   "id": "710721f7c952452b"
  },
  {
   "metadata": {},
   "cell_type": "code",
   "outputs": [],
   "execution_count": null,
   "source": "",
   "id": "6d92bf1e5e670148"
  },
  {
   "metadata": {
    "ExecuteTime": {
     "end_time": "2024-09-05T19:20:28.229441Z",
     "start_time": "2024-09-05T19:20:28.226896Z"
    }
   },
   "cell_type": "code",
   "source": [
    "data['Sex'] = data['Sex'].map({'male': 0, 'female': 1})\n",
    "data['Embarked'] = data['Embarked'].map({'S': 0, 'C': 1, 'Q': 2})"
   ],
   "id": "60da579ec6c6dbdd",
   "outputs": [],
   "execution_count": 19
  },
  {
   "metadata": {
    "ExecuteTime": {
     "end_time": "2024-09-05T19:20:28.235100Z",
     "start_time": "2024-09-05T19:20:28.230764Z"
    }
   },
   "cell_type": "code",
   "source": [
    "# Seleccionar características relevantes\n",
    "X = data[['Pclass', 'Sex', 'Age', 'SibSp', 'Parch', 'Fare', 'Embarked']]\n",
    "y = data['Survived']\n",
    "\n",
    "# Dividir los datos en conjuntos de entrenamiento y prueba\n",
    "X_train, X_test, y_train, y_test = train_test_split(X, y, test_size=0.2, random_state=42)\n",
    "\n",
    "# Escalar las características\n",
    "scaler = StandardScaler()\n",
    "X_train = scaler.fit_transform(X_train)\n",
    "X_test = scaler.transform(X_test)\n"
   ],
   "id": "fad2571f3726d3a2",
   "outputs": [],
   "execution_count": 20
  },
  {
   "metadata": {},
   "cell_type": "markdown",
   "source": "## Creación y entrenamiento de la red",
   "id": "8b6d27ea2f26d2cf"
  },
  {
   "metadata": {
    "ExecuteTime": {
     "end_time": "2024-09-05T19:20:28.327866Z",
     "start_time": "2024-09-05T19:20:28.325793Z"
    }
   },
   "cell_type": "code",
   "source": [
    "# Convertir las etiquetas a una representación categórica\n",
    "y_train = to_categorical(y_train, num_classes=2)\n",
    "y_test = to_categorical(y_test, num_classes=2)\n"
   ],
   "id": "74b35a787b944e88",
   "outputs": [],
   "execution_count": 22
  },
  {
   "metadata": {},
   "cell_type": "markdown",
   "source": "## Evaluación del modelo",
   "id": "c04fe3db5bb2f625"
  },
  {
   "metadata": {
    "ExecuteTime": {
     "end_time": "2024-09-05T19:20:28.330882Z",
     "start_time": "2024-09-05T19:20:28.328908Z"
    }
   },
   "cell_type": "code",
   "source": [
    "\n",
    "# Metricas\n",
    "#loss, accuracy = model.evaluate(X_test, y_test)\n",
    "#print(f'Precisión: {accuracy*100:.2f}%')\n",
    "#print(f'Error: {loss}')\n",
    "\n",
    "\n"
   ],
   "id": "6cae67da2253376c",
   "outputs": [],
   "execution_count": 23
  },
  {
   "metadata": {
    "ExecuteTime": {
     "end_time": "2024-09-05T19:20:28.335685Z",
     "start_time": "2024-09-05T19:20:28.331626Z"
    }
   },
   "cell_type": "code",
   "source": [
    "def train_and_evaluate_model(X_train, y_train, X_test, y_test, epochs=50, batch_size=10, hidden_layers=[32, 32], activation='relu', output_activation='sigmoid'):\n",
    "    # Verificar si las etiquetas ya están en formato categórico\n",
    "    if y_train.ndim == 1:\n",
    "        y_train = to_categorical(y_train, num_classes=2)\n",
    "    if y_test.ndim == 1:\n",
    "        y_test = to_categorical(y_test, num_classes=2)\n",
    "\n",
    "    # Crear el modelo\n",
    "    model = Sequential()\n",
    "    model.add(Dense(hidden_layers[0], activation=activation, input_shape=(X_train.shape[1],)))\n",
    "    for units in hidden_layers[1:]:\n",
    "        model.add(Dense(units, activation=activation))\n",
    "    model.add(Dense(2, activation=output_activation))\n",
    "\n",
    "    # Compilar el modelo\n",
    "    model.compile(optimizer='adam', loss='binary_crossentropy', metrics=['accuracy'])\n",
    "\n",
    "    # Entrenar el modelo\n",
    "    history = model.fit(X_train, y_train, epochs=epochs, batch_size=batch_size, validation_split=0.2, verbose=0)\n",
    "\n",
    "    # Evaluar el modelo\n",
    "    loss, accuracy = model.evaluate(X_test, y_test, verbose=0)\n",
    "\n",
    "    return history, loss, accuracy\n",
    "\n",
    "def plot_results(results):\n",
    "    for label, result in results.items():\n",
    "        plt.plot(result['history'].history['val_accuracy'], label=f'{label} - Val Accuracy')\n",
    "    plt.xlabel('Epochs')\n",
    "    plt.ylabel('Validation Accuracy')\n",
    "    plt.legend()\n",
    "    plt.show()"
   ],
   "id": "ff2196000ab446b1",
   "outputs": [],
   "execution_count": 24
  },
  {
   "metadata": {
    "ExecuteTime": {
     "end_time": "2024-09-05T19:20:32.245904Z",
     "start_time": "2024-09-05T19:20:28.336958Z"
    }
   },
   "cell_type": "code",
   "source": [
    "\n",
    "results = {}\n",
    "params = [\n",
    "    {'epochs': 50, 'batch_size': 10, 'hidden_layers': [32, 32]},\n",
    "    {'epochs': 100, 'batch_size': 20, 'hidden_layers': [64, 32]},\n",
    "    {'epochs': 200, 'batch_size': 10, 'hidden_layers': [32, 32, 16]}\n",
    "]\n",
    "\n",
    "for i, param in enumerate(params):\n",
    "    history, loss, accuracy = train_and_evaluate_model(X_train, y_train, X_test, y_test, **param)\n",
    "    results[f'Model {i+1}'] = {'history': history, 'loss': loss, 'accuracy': accuracy}\n",
    "\n",
    "plot_results(results)"
   ],
   "id": "3d2c5eb4233dc96",
   "outputs": [
    {
     "data": {
      "text/plain": [
       "<Figure size 640x480 with 1 Axes>"
      ],
      "image/png": "[encoded data removed]"
     },
     "metadata": {},
     "output_type": "display_data"
    }
   ],
   "execution_count": 25
  }
 ],
 "metadata": {
  "kernelspec": {
   "display_name": "Python 3",
   "language": "python",
   "name": "python3"
  },
  "language_info": {
   "codemirror_mode": {
    "name": "ipython",
    "version": 2
   },
   "file_extension": ".py",
   "mimetype": "text/x-python",
   "name": "python",
   "nbconvert_exporter": "python",
   "pygments_lexer": "ipython2",
   "version": "2.7.6"
  }
 },
 "nbformat": 4,
 "nbformat_minor": 5
}
