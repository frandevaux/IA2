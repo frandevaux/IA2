{
 "cells": [
  {
   "metadata": {},
   "cell_type": "markdown",
   "source": [
    "# Series de tiempo - Ejercicio Francisco Devaux\n",
    "\n",
    "En este notebook se presenta un ejercicio de series de tiempo utilizando un dataset de medallas olímpicas dado por la cátedra.\n",
    "\n",
    "El objetivo es predecir la cantidad de medallas obtenidas por un país en un deporte en particular a lo largo de los años.\n",
    "\n",
    "El dataset utilizado está disponible en el siguiente enlace:\n",
    "https://www.kaggle.com/datasets/divyansh22/summer-olympics-medals\n"
   ],
   "id": "ff73498f487cb19d"
  },
  {
   "metadata": {},
   "cell_type": "markdown",
   "source": "### Importación de librerías y lectura de datos",
   "id": "740ced07274bed44"
  },
  {
   "metadata": {
    "ExecuteTime": {
     "end_time": "2024-09-26T18:25:55.071392Z",
     "start_time": "2024-09-26T18:25:53.781124Z"
    }
   },
   "cell_type": "code",
   "source": [
    "import pandas as pd\n",
    "import numpy as np\n",
    "import matplotlib.pyplot as plt\n",
    "from sklearn.preprocessing import MinMaxScaler\n",
    "import tensorflow as tf\n",
    "from tensorflow.keras.models import Sequential\n",
    "from tensorflow.keras.layers import LSTM, Dense\n",
    "\n",
    "\n",
    "# Detectar la codificación del archivo\n",
    "import chardet\n",
    "\n",
    "with open('data.csv', 'rb') as f:\n",
    "    result = chardet.detect(f.read())\n",
    "\n",
    "encoding = result['encoding']\n",
    "# Leer el archivo con la codificación detectada\n",
    "data = pd.read_csv('data.csv', encoding=encoding)"
   ],
   "id": "59606db7bb8a3032",
   "outputs": [],
   "execution_count": 30
  },
  {
   "metadata": {},
   "cell_type": "markdown",
   "source": [
    "### Análisis Exploratorio de datos\n",
    "\n",
    "El dataset contiene la información de las medallas obtenidas en los juegos olímpicos desde 1896 hasta 2008. Las columnas son las siguientes:\n",
    "\n",
    "Columnas:\n",
    "- City\n",
    "- Year\n",
    "- Sport\n",
    "- Discipline\n",
    "- Event\n",
    "- Athlete\n",
    "- Gender\n",
    "- Country_Code\n",
    "- Country\n",
    "- Event_gender\n",
    "- Medal"
   ],
   "id": "3e7c5cd5122887c3"
  },
  {
   "cell_type": "code",
   "id": "initial_id",
   "metadata": {
    "collapsed": true,
    "ExecuteTime": {
     "end_time": "2024-09-26T18:25:55.076086Z",
     "start_time": "2024-09-26T18:25:55.072316Z"
    }
   },
   "source": "data.head()",
   "outputs": [
    {
     "data": {
      "text/plain": [
       "       City    Year     Sport Discipline           Event  \\\n",
       "0  Montreal  1976.0  Aquatics     Diving  3m springboard   \n",
       "1  Montreal  1976.0  Aquatics     Diving  3m springboard   \n",
       "2  Montreal  1976.0  Aquatics     Diving  3m springboard   \n",
       "3  Montreal  1976.0  Aquatics     Diving  3m springboard   \n",
       "4  Montreal  1976.0  Aquatics     Diving    10m platform   \n",
       "\n",
       "                    Athlete Gender Country_Code        Country Event_gender  \\\n",
       "0           KÖHLER, Christa  Women          GDR   East Germany            W   \n",
       "1       KOSENKOV, Aleksandr    Men          URS   Soviet Union            M   \n",
       "2      BOGGS, Philip George    Men          USA  United States            M   \n",
       "3  CAGNOTTO, Giorgio Franco    Men          ITA          Italy            M   \n",
       "4    WILSON, Deborah Keplar  Women          USA  United States            W   \n",
       "\n",
       "    Medal  \n",
       "0  Silver  \n",
       "1  Bronze  \n",
       "2    Gold  \n",
       "3  Silver  \n",
       "4  Bronze  "
      ],
      "text/html": [
       "<div>\n",
       "<style scoped>\n",
       "    .dataframe tbody tr th:only-of-type {\n",
       "        vertical-align: middle;\n",
       "    }\n",
       "\n",
       "    .dataframe tbody tr th {\n",
       "        vertical-align: top;\n",
       "    }\n",
       "\n",
       "    .dataframe thead th {\n",
       "        text-align: right;\n",
       "    }\n",
       "</style>\n",
       "<table border=\"1\" class=\"dataframe\">\n",
       "  <thead>\n",
       "    <tr style=\"text-align: right;\">\n",
       "      <th></th>\n",
       "      <th>City</th>\n",
       "      <th>Year</th>\n",
       "      <th>Sport</th>\n",
       "      <th>Discipline</th>\n",
       "      <th>Event</th>\n",
       "      <th>Athlete</th>\n",
       "      <th>Gender</th>\n",
       "      <th>Country_Code</th>\n",
       "      <th>Country</th>\n",
       "      <th>Event_gender</th>\n",
       "      <th>Medal</th>\n",
       "    </tr>\n",
       "  </thead>\n",
       "  <tbody>\n",
       "    <tr>\n",
       "      <th>0</th>\n",
       "      <td>Montreal</td>\n",
       "      <td>1976.0</td>\n",
       "      <td>Aquatics</td>\n",
       "      <td>Diving</td>\n",
       "      <td>3m springboard</td>\n",
       "      <td>KÖHLER, Christa</td>\n",
       "      <td>Women</td>\n",
       "      <td>GDR</td>\n",
       "      <td>East Germany</td>\n",
       "      <td>W</td>\n",
       "      <td>Silver</td>\n",
       "    </tr>\n",
       "    <tr>\n",
       "      <th>1</th>\n",
       "      <td>Montreal</td>\n",
       "      <td>1976.0</td>\n",
       "      <td>Aquatics</td>\n",
       "      <td>Diving</td>\n",
       "      <td>3m springboard</td>\n",
       "      <td>KOSENKOV, Aleksandr</td>\n",
       "      <td>Men</td>\n",
       "      <td>URS</td>\n",
       "      <td>Soviet Union</td>\n",
       "      <td>M</td>\n",
       "      <td>Bronze</td>\n",
       "    </tr>\n",
       "    <tr>\n",
       "      <th>2</th>\n",
       "      <td>Montreal</td>\n",
       "      <td>1976.0</td>\n",
       "      <td>Aquatics</td>\n",
       "      <td>Diving</td>\n",
       "      <td>3m springboard</td>\n",
       "      <td>BOGGS, Philip George</td>\n",
       "      <td>Men</td>\n",
       "      <td>USA</td>\n",
       "      <td>United States</td>\n",
       "      <td>M</td>\n",
       "      <td>Gold</td>\n",
       "    </tr>\n",
       "    <tr>\n",
       "      <th>3</th>\n",
       "      <td>Montreal</td>\n",
       "      <td>1976.0</td>\n",
       "      <td>Aquatics</td>\n",
       "      <td>Diving</td>\n",
       "      <td>3m springboard</td>\n",
       "      <td>CAGNOTTO, Giorgio Franco</td>\n",
       "      <td>Men</td>\n",
       "      <td>ITA</td>\n",
       "      <td>Italy</td>\n",
       "      <td>M</td>\n",
       "      <td>Silver</td>\n",
       "    </tr>\n",
       "    <tr>\n",
       "      <th>4</th>\n",
       "      <td>Montreal</td>\n",
       "      <td>1976.0</td>\n",
       "      <td>Aquatics</td>\n",
       "      <td>Diving</td>\n",
       "      <td>10m platform</td>\n",
       "      <td>WILSON, Deborah Keplar</td>\n",
       "      <td>Women</td>\n",
       "      <td>USA</td>\n",
       "      <td>United States</td>\n",
       "      <td>W</td>\n",
       "      <td>Bronze</td>\n",
       "    </tr>\n",
       "  </tbody>\n",
       "</table>\n",
       "</div>"
      ]
     },
     "execution_count": 31,
     "metadata": {},
     "output_type": "execute_result"
    }
   ],
   "execution_count": 31
  },
  {
   "metadata": {},
   "cell_type": "markdown",
   "source": "Como fue solicitado en la consigna, observamos la cantidad de deportes que hay en el dataset y nos quedamos con los 5 con mas datos",
   "id": "aac1bf1f0af74202"
  },
  {
   "metadata": {
    "ExecuteTime": {
     "end_time": "2024-09-26T18:25:55.080654Z",
     "start_time": "2024-09-26T18:25:55.076701Z"
    }
   },
   "cell_type": "code",
   "source": [
    "# Obtener el numero de deportes\n",
    "deportes = data['Sport'].unique()\n",
    "print('Numero de deportes:', len(deportes))\n",
    "\n",
    "#Guardamos los 5 deportes con mas datos\n",
    "deportes = data['Sport'].value_counts().head().index\n",
    "print(deportes)\n",
    "\n",
    "# Mostrar los primeros 5 deportes con mas datos\n",
    "data['Sport'].value_counts().head()"
   ],
   "id": "c01d167f516ee2b0",
   "outputs": [
    {
     "name": "stdout",
     "output_type": "stream",
     "text": [
      "Numero de deportes: 29\n",
      "Index(['Aquatics', 'Athletics', 'Rowing', 'Hockey', 'Gymnastics'], dtype='object', name='Sport')\n"
     ]
    },
    {
     "data": {
      "text/plain": [
       "Sport\n",
       "Aquatics      2210\n",
       "Athletics     1523\n",
       "Rowing        1377\n",
       "Hockey         817\n",
       "Gymnastics     783\n",
       "Name: count, dtype: int64"
      ]
     },
     "execution_count": 32,
     "metadata": {},
     "output_type": "execute_result"
    }
   ],
   "execution_count": 32
  },
  {
   "metadata": {},
   "cell_type": "markdown",
   "source": [
    "El valor a predecir será el numero de medallas ganadas por un país en un año y en un deporte en particular.\n",
    "\n",
    "A continuación se intentará predecir las medallas obtenidas por Estados Unidos en el deporte de natación \n",
    "\n",
    "Antes de eso se visualizará graficamente la cantidad de medallas obtenidas por Estados Unidos en natación a lo largo de los años."
   ],
   "id": "4d2dcfee70e2072a"
  },
  {
   "metadata": {
    "ExecuteTime": {
     "end_time": "2024-09-26T18:25:55.127832Z",
     "start_time": "2024-09-26T18:25:55.081524Z"
    }
   },
   "cell_type": "code",
   "source": [
    "medals_data = data.groupby(['Year', 'Country', 'Sport'])['Medal'].count().reset_index()\n",
    "medals_data_usa = medals_data[medals_data['Country'] == 'United States']\n",
    "medals_data_usa_swimming = medals_data_usa[medals_data_usa['Sport'] == 'Aquatics'].copy()\n",
    "plt.plot(medals_data_usa_swimming['Year'], medals_data_usa_swimming['Medal'])\n",
    "plt.show()\n"
   ],
   "id": "a069df8af5e7f4f6",
   "outputs": [
    {
     "data": {
      "text/plain": [
       "<Figure size 640x480 with 1 Axes>"
      ],
      "image/png": "[encoded data removed]"
     },
     "metadata": {},
     "output_type": "display_data"
    }
   ],
   "execution_count": 33
  },
  {
   "metadata": {},
   "cell_type": "markdown",
   "source": "Para predecir el número de medallas utilizando series de tiempo se utilizará un modelo LSTM. Se normalizarán los datos y se dividirán en conjuntos de entrenamiento, validación y prueba.",
   "id": "567c2e66cdc38bee"
  },
  {
   "metadata": {
    "ExecuteTime": {
     "end_time": "2024-09-26T18:25:55.189019Z",
     "start_time": "2024-09-26T18:25:55.128530Z"
    }
   },
   "cell_type": "code",
   "source": [
    "# Extraer solo la columna de medallas para la normalización\n",
    "medals_values = medals_data_usa_swimming['Medal'].values.reshape(-1, 1)\n",
    "\n",
    "# Normalizar los datos de medallas usando MinMaxScaler\n",
    "scaler = MinMaxScaler(feature_range=(0, 1))\n",
    "medals_values_scaled = scaler.fit_transform(medals_values)\n",
    "\n",
    "# Usar .loc para evitar el warning\n",
    "medals_data_usa_swimming.loc[:, 'Medal_scaled'] = medals_values_scaled\n",
    "\n",
    "# Visualizar los datos normalizados\n",
    "plt.plot(medals_data_usa_swimming['Year'], medals_data_usa_swimming['Medal_scaled'])\n",
    "plt.title('Número de Medallas en Natación (EEUU) - Normalizado')\n",
    "plt.show()\n",
    "\n",
    "# Dividir en train, val, y test\n",
    "train_data = medals_data_usa_swimming[:5][['Medal_scaled']].values  \n",
    "val_data = medals_data_usa_swimming[5:6][['Medal_scaled']].values\n",
    "test_data = medals_data_usa_swimming[6:] [['Medal_scaled']].values \n",
    "\n",
    "print(\"Tamaño de los datos de entrenamiento:\", train_data.shape)\n",
    "print(\"Tamaño de los datos de validación:\", val_data.shape)\n",
    "print(\"Tamaño de los datos de prueba:\", test_data.shape)\n",
    "\n",
    "# Opcional: visualizar las divisiones de los datos\n",
    "print(\"Datos de entrenamiento: \\n\", train_data, \"\\n\")\n",
    "print(\"Datos de validación: \\n\", val_data, \"\\n\")\n",
    "print(\"Datos de prueba: \\n\", test_data, \"\\n\")\n"
   ],
   "id": "f48b7b43056df213",
   "outputs": [
    {
     "data": {
      "text/plain": [
       "<Figure size 640x480 with 1 Axes>"
      ],
      "image/png": "[encoded data removed]"
     },
     "metadata": {},
     "output_type": "display_data"
    },
    {
     "name": "stdout",
     "output_type": "stream",
     "text": [
      "Tamaño de los datos de entrenamiento: (5, 1)\n",
      "Tamaño de los datos de validación: (1, 1)\n",
      "Tamaño de los datos de prueba: (2, 1)\n",
      "Datos de entrenamiento: \n",
      " [[0.        ]\n",
      " [0.51162791]\n",
      " [0.13953488]\n",
      " [0.25581395]\n",
      " [0.48837209]] \n",
      "\n",
      "Datos de validación: \n",
      " [[0.6744186]] \n",
      "\n",
      "Datos de prueba: \n",
      " [[0.88372093]\n",
      " [1.        ]] \n",
      "\n"
     ]
    }
   ],
   "execution_count": 34
  },
  {
   "metadata": {},
   "cell_type": "markdown",
   "source": "A continuación se crea la función create_sequences que toma los datos y crea secuencias de tamaño time_steps. Luego se crean las secuencias para los conjuntos de entrenamiento y prueba.",
   "id": "6131cfe87b60f8b3"
  },
  {
   "metadata": {
    "ExecuteTime": {
     "end_time": "2024-09-26T18:25:55.193335Z",
     "start_time": "2024-09-26T18:25:55.189772Z"
    }
   },
   "cell_type": "code",
   "source": [
    "\n",
    "def create_sequences(data, time_steps):\n",
    "    sequences = []\n",
    "    labels = []\n",
    "    for i in range(len(data) - time_steps):\n",
    "        sequences.append(data[i:i+time_steps])\n",
    "        labels.append(data[i+time_steps])\n",
    "    return np.array(sequences), np.array(labels)\n",
    "\n",
    "\n",
    "# Definir el tamaño de la ventana de tiempo (1 paso)\n",
    "time_steps = 1\n",
    "\n",
    "# Crear las secuencias para el conjunto de entrenamiento y prueba\n",
    "X_train, y_train = create_sequences(train_data, time_steps)\n",
    "X_test, y_test = create_sequences(test_data, time_steps)\n",
    "\n",
    "# Para el conjunto de validación, dado que es un solo valor, lo ajustamos manualmente\n",
    "X_val = np.array([[val_data[0]]])  # Solo un dato, sin secuencia\n",
    "y_val = val_data[0]  # Etiqueta correspondiente\n",
    "\n",
    "# Mostrar la forma de los datos para verificar\n",
    "print(\"X_train shape:\", X_train.shape)\n",
    "print(\"y_train shape:\", y_train.shape)\n",
    "print(\"X_val shape:\", X_val.shape)\n",
    "print(\"y_val shape:\", y_val.shape)\n"
   ],
   "id": "d95e740d3677cecb",
   "outputs": [
    {
     "name": "stdout",
     "output_type": "stream",
     "text": [
      "X_train shape: (4, 1, 1)\n",
      "y_train shape: (4, 1)\n",
      "X_val shape: (1, 1, 1)\n",
      "y_val shape: (1,)\n"
     ]
    }
   ],
   "execution_count": 35
  },
  {
   "metadata": {},
   "cell_type": "markdown",
   "source": "A continuación se crea el modelo LSTM y se entrena con los datos de entrenamiento y validación.",
   "id": "a7649038ebf0f603"
  },
  {
   "metadata": {
    "ExecuteTime": {
     "end_time": "2024-09-26T18:25:56.052914Z",
     "start_time": "2024-09-26T18:25:55.194236Z"
    }
   },
   "cell_type": "code",
   "source": [
    "# Crear el modelo LSTM\n",
    "model = Sequential()\n",
    "model.add(LSTM(50, activation='relu', input_shape=(time_steps, 1)))\n",
    "model.add(Dense(1))\n",
    "model.compile(optimizer='adam', loss='mse')\n",
    "\n",
    "# Entrenar el modelo\n",
    "history = model.fit(X_train, y_train, validation_data=(X_val, y_val), epochs=50, batch_size=1)\n"
   ],
   "id": "101bd426c8d1de19",
   "outputs": [
    {
     "name": "stdout",
     "output_type": "stream",
     "text": [
      "Epoch 1/50\n",
      "4/4 [==============================] - 0s 22ms/step - loss: 0.1458 - val_loss: 0.4476\n",
      "Epoch 2/50\n",
      "4/4 [==============================] - 0s 3ms/step - loss: 0.1404 - val_loss: 0.4322\n",
      "Epoch 3/50\n",
      "4/4 [==============================] - 0s 3ms/step - loss: 0.1348 - val_loss: 0.4173\n",
      "Epoch 4/50\n",
      "4/4 [==============================] - 0s 3ms/step - loss: 0.1303 - val_loss: 0.4024\n",
      "Epoch 5/50\n",
      "4/4 [==============================] - 0s 3ms/step - loss: 0.1256 - val_loss: 0.3882\n",
      "Epoch 6/50\n",
      "4/4 [==============================] - 0s 3ms/step - loss: 0.1203 - val_loss: 0.3748\n",
      "Epoch 7/50\n",
      "4/4 [==============================] - 0s 3ms/step - loss: 0.1164 - val_loss: 0.3616\n",
      "Epoch 8/50\n",
      "4/4 [==============================] - 0s 3ms/step - loss: 0.1128 - val_loss: 0.3486\n",
      "Epoch 9/50\n",
      "4/4 [==============================] - 0s 3ms/step - loss: 0.1079 - val_loss: 0.3367\n",
      "Epoch 10/50\n",
      "4/4 [==============================] - 0s 3ms/step - loss: 0.1045 - val_loss: 0.3248\n",
      "Epoch 11/50\n",
      "4/4 [==============================] - 0s 3ms/step - loss: 0.1006 - val_loss: 0.3134\n",
      "Epoch 12/50\n",
      "4/4 [==============================] - 0s 3ms/step - loss: 0.0970 - val_loss: 0.3021\n",
      "Epoch 13/50\n",
      "4/4 [==============================] - 0s 3ms/step - loss: 0.0935 - val_loss: 0.2908\n",
      "Epoch 14/50\n",
      "4/4 [==============================] - 0s 3ms/step - loss: 0.0895 - val_loss: 0.2804\n",
      "Epoch 15/50\n",
      "4/4 [==============================] - 0s 3ms/step - loss: 0.0871 - val_loss: 0.2691\n",
      "Epoch 16/50\n",
      "4/4 [==============================] - 0s 3ms/step - loss: 0.0836 - val_loss: 0.2584\n",
      "Epoch 17/50\n",
      "4/4 [==============================] - 0s 3ms/step - loss: 0.0795 - val_loss: 0.2490\n",
      "Epoch 18/50\n",
      "4/4 [==============================] - 0s 3ms/step - loss: 0.0769 - val_loss: 0.2392\n",
      "Epoch 19/50\n",
      "4/4 [==============================] - 0s 4ms/step - loss: 0.0742 - val_loss: 0.2293\n",
      "Epoch 20/50\n",
      "4/4 [==============================] - 0s 3ms/step - loss: 0.0709 - val_loss: 0.2204\n",
      "Epoch 21/50\n",
      "4/4 [==============================] - 0s 3ms/step - loss: 0.0684 - val_loss: 0.2113\n",
      "Epoch 22/50\n",
      "4/4 [==============================] - 0s 3ms/step - loss: 0.0658 - val_loss: 0.2026\n",
      "Epoch 23/50\n",
      "4/4 [==============================] - 0s 3ms/step - loss: 0.0636 - val_loss: 0.1938\n",
      "Epoch 24/50\n",
      "4/4 [==============================] - 0s 3ms/step - loss: 0.0606 - val_loss: 0.1863\n",
      "Epoch 25/50\n",
      "4/4 [==============================] - 0s 3ms/step - loss: 0.0582 - val_loss: 0.1798\n",
      "Epoch 26/50\n",
      "4/4 [==============================] - 0s 3ms/step - loss: 0.0565 - val_loss: 0.1729\n",
      "Epoch 27/50\n",
      "4/4 [==============================] - 0s 3ms/step - loss: 0.0546 - val_loss: 0.1661\n",
      "Epoch 28/50\n",
      "4/4 [==============================] - 0s 3ms/step - loss: 0.0525 - val_loss: 0.1604\n",
      "Epoch 29/50\n",
      "4/4 [==============================] - 0s 3ms/step - loss: 0.0518 - val_loss: 0.1531\n",
      "Epoch 30/50\n",
      "4/4 [==============================] - 0s 3ms/step - loss: 0.0490 - val_loss: 0.1484\n",
      "Epoch 31/50\n",
      "4/4 [==============================] - 0s 3ms/step - loss: 0.0485 - val_loss: 0.1422\n",
      "Epoch 32/50\n",
      "4/4 [==============================] - 0s 3ms/step - loss: 0.0466 - val_loss: 0.1372\n",
      "Epoch 33/50\n",
      "4/4 [==============================] - 0s 3ms/step - loss: 0.0453 - val_loss: 0.1326\n",
      "Epoch 34/50\n",
      "4/4 [==============================] - 0s 3ms/step - loss: 0.0441 - val_loss: 0.1281\n",
      "Epoch 35/50\n",
      "4/4 [==============================] - 0s 3ms/step - loss: 0.0430 - val_loss: 0.1246\n",
      "Epoch 36/50\n",
      "4/4 [==============================] - 0s 3ms/step - loss: 0.0420 - val_loss: 0.1210\n",
      "Epoch 37/50\n",
      "4/4 [==============================] - 0s 3ms/step - loss: 0.0412 - val_loss: 0.1177\n",
      "Epoch 38/50\n",
      "4/4 [==============================] - 0s 3ms/step - loss: 0.0402 - val_loss: 0.1153\n",
      "Epoch 39/50\n",
      "4/4 [==============================] - 0s 3ms/step - loss: 0.0397 - val_loss: 0.1124\n",
      "Epoch 40/50\n",
      "4/4 [==============================] - 0s 3ms/step - loss: 0.0387 - val_loss: 0.1105\n",
      "Epoch 41/50\n",
      "4/4 [==============================] - 0s 3ms/step - loss: 0.0382 - val_loss: 0.1089\n",
      "Epoch 42/50\n",
      "4/4 [==============================] - 0s 3ms/step - loss: 0.0379 - val_loss: 0.1056\n",
      "Epoch 43/50\n",
      "4/4 [==============================] - 0s 3ms/step - loss: 0.0372 - val_loss: 0.1036\n",
      "Epoch 44/50\n",
      "4/4 [==============================] - 0s 4ms/step - loss: 0.0366 - val_loss: 0.1025\n",
      "Epoch 45/50\n",
      "4/4 [==============================] - 0s 3ms/step - loss: 0.0361 - val_loss: 0.1021\n",
      "Epoch 46/50\n",
      "4/4 [==============================] - 0s 4ms/step - loss: 0.0359 - val_loss: 0.0997\n",
      "Epoch 47/50\n",
      "4/4 [==============================] - 0s 3ms/step - loss: 0.0357 - val_loss: 0.0975\n",
      "Epoch 48/50\n",
      "4/4 [==============================] - 0s 3ms/step - loss: 0.0349 - val_loss: 0.0983\n",
      "Epoch 49/50\n",
      "4/4 [==============================] - 0s 3ms/step - loss: 0.0345 - val_loss: 0.0984\n",
      "Epoch 50/50\n",
      "4/4 [==============================] - 0s 3ms/step - loss: 0.0343 - val_loss: 0.0968\n"
     ]
    }
   ],
   "execution_count": 36
  },
  {
   "metadata": {},
   "cell_type": "markdown",
   "source": "Finalmente se evalúa el modelo con los datos de prueba y se hacen predicciones. Al ser un solo valor, se desnormaliza y se compara con el valor real.",
   "id": "cc2b32bbe066dae0"
  },
  {
   "metadata": {
    "ExecuteTime": {
     "end_time": "2024-09-26T18:25:56.249874Z",
     "start_time": "2024-09-26T18:25:56.053596Z"
    }
   },
   "cell_type": "code",
   "source": [
    "\n",
    "# Evaluar el modelo en los datos de prueba\n",
    "test_loss = model.evaluate(X_test, y_test)\n",
    "print('Test Loss:', test_loss)\n",
    "\n",
    "@tf.function\n",
    "def make_predictions(model, data):\n",
    "    return model(data)\n",
    "\n",
    "# Hacer predicciones sobre los datos de prueba\n",
    "y_pred = make_predictions(model, X_test)\n",
    "\n",
    "# Suponiendo que y_test y y_pred son numpy arrays\n",
    "real_value = scaler.inverse_transform(y_test.reshape(-1, 1))[0][0]  # Valor real desnormalizado\n",
    "predicted_value = scaler.inverse_transform(y_pred)[0][0]  # Valor predicho desnormalizado\n",
    "\n",
    "# Crear listas para graficar\n",
    "values = [real_value, predicted_value]\n",
    "labels = ['True Value', 'Predicted Value']\n",
    "\n",
    "plt.bar(labels, values, color=['blue', 'orange'])\n",
    "plt.ylabel('Value')\n",
    "plt.title('Comparison of True Value and Predicted Value')\n",
    "plt.ylim(0, max(values) + 0.1)  # Ajustar el límite superior para mayor claridad\n",
    "plt.show()\n",
    "\n"
   ],
   "id": "9d59ea25f46fe545",
   "outputs": [
    {
     "name": "stdout",
     "output_type": "stream",
     "text": [
      "1/1 [==============================] - 0s 94ms/step - loss: 0.3704\n",
      "Test Loss: 0.37041574716567993\n"
     ]
    },
    {
     "data": {
      "text/plain": [
       "<Figure size 640x480 with 1 Axes>"
      ],
      "image/png": "[encoded data removed]"
     },
     "metadata": {},
     "output_type": "display_data"
    }
   ],
   "execution_count": 37
  }
 ],
 "metadata": {
  "kernelspec": {
   "display_name": "Python 3",
   "language": "python",
   "name": "python3"
  },
  "language_info": {
   "codemirror_mode": {
    "name": "ipython",
    "version": 2
   },
   "file_extension": ".py",
   "mimetype": "text/x-python",
   "name": "python",
   "nbconvert_exporter": "python",
   "pygments_lexer": "ipython2",
   "version": "2.7.6"
  }
 },
 "nbformat": 4,
 "nbformat_minor": 5
}
